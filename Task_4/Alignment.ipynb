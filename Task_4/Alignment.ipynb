{
 "cells": [
  {
   "cell_type": "markdown",
   "id": "46890dbe-46ae-4639-b0ce-fe818c10fe42",
   "metadata": {},
   "source": [
    "# MSA.Сдача ДЗ"
   ]
  },
  {
   "cell_type": "markdown",
   "id": "cdc04c0f-bf59-47c6-b9d9-c77a8eff7b08",
   "metadata": {},
   "source": [
    "## 1. Newick формат дерева, полученный c ClustalOMEGA:\n",
    "(\n",
    "(\n",
    "sp|P02132|HBB1_XENLA:0.36241,\n",
    "sp|P02112|HBB_CHICK:0.13759)\n",
    ":0.09370,\n",
    "sp|P02091|HBB1_RAT:0.10034,\n",
    "sp|P68871|HBB_HUMAN:0.08333);"
   ]
  },
  {
   "cell_type": "markdown",
   "id": "4178c2b4-5c65-403b-96ee-f91d119334e1",
   "metadata": {},
   "source": [
    "## 2.Белки\n",
    "\n",
    "#### Для анализа использовались Hemoglobin subunit beta-1 человека (Homo sapiens), Курицы ( Galus galus), Крысы (Rattus norvegicus) и Шпорцевой лягушки ( Xenopus laevis). "
   ]
  },
  {
   "cell_type": "markdown",
   "id": "bca0cc39-fe6d-43d8-8c4a-2d500cdbcf51",
   "metadata": {},
   "source": [
    "## 3. Дерево \n"
   ]
  },
  {
   "cell_type": "markdown",
   "id": "8e67c88e-4efa-46e7-898a-69486ebedccd",
   "metadata": {},
   "source": [
    "![Phylogenetic Tree](The_Strange_Tree.png)"
   ]
  },
  {
   "cell_type": "markdown",
   "id": "63108f0b-81b1-4f65-b891-5b1a682705a3",
   "metadata": {},
   "source": [
    "#### Дерево могло получиться неоднозначным, так как Clustal использует UPGMA для построения, что не всегда нот гуд, особенно если эволюционные скорости между таксонами различаются. Может быть NG будет лучше. Ещё мало консервативных позиций. Вряд ли крутые деревья строят по гемоглобину, хотя может быть и строят)"
   ]
  },
  {
   "cell_type": "code",
   "execution_count": null,
   "id": "83a5bfc6-e2b2-43ad-85b5-aad46a436a67",
   "metadata": {},
   "outputs": [],
   "source": []
  }
 ],
 "metadata": {
  "kernelspec": {
   "display_name": "Python 3 (ipykernel)",
   "language": "python",
   "name": "python3"
  },
  "language_info": {
   "codemirror_mode": {
    "name": "ipython",
    "version": 3
   },
   "file_extension": ".py",
   "mimetype": "text/x-python",
   "name": "python",
   "nbconvert_exporter": "python",
   "pygments_lexer": "ipython3",
   "version": "3.8.12"
  }
 },
 "nbformat": 4,
 "nbformat_minor": 5
}
