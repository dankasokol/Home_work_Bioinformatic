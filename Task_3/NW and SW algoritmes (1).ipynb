{
 "cells": [
  {
   "cell_type": "markdown",
   "id": "7bb1a107-a8ed-4fc0-aed2-b632085fc0b1",
   "metadata": {},
   "source": [
    "# 1. Алгоритмы выравнивания\n",
    "\n",
    "## 1.1 Алгоритм Нидлмана-Вунша"
   ]
  },
  {
   "cell_type": "code",
   "execution_count": 19,
   "id": "eefdab51-dc43-41b6-87fa-58d58aaf8be0",
   "metadata": {},
   "outputs": [
    {
     "name": "stdout",
     "output_type": "stream",
     "text": [
      "Выравнивание:\n",
      "CCGCAAGTTCGATA---TCAAATC--GCTTGGATTGTCTAAG-A--TACG--CGCCCCGCATCCCGTAT-TAAGGTGGGAGGGGGTT-TAT-GACT-GTTCTC-GCGCAC-AACTC\n",
      "-CTCAA--TCAAAAGGCTAAAAGCAAG-TT-CA-GGTCTACGCATCTACGATTGATCTGC-TCCC-T-TCT---GT-CGA-TTAATTGTATCCACTAGAGC-CAGCGCCCTCA-TC\n"
     ]
    }
   ],
   "source": [
    "import numpy as np\n",
    "def needleman_wunsch(seq1, seq2, match_score=1, mismatch_score=-1, gap_penalty=-1):\n",
    "    m, n = len(seq1), len(seq2)\n",
    "    #1 Матриц\n",
    "    score_matrix = np.zeros((m + 1, n + 1))\n",
    "    \n",
    "    # 2 Заполняем первые строки и столбцы\n",
    "    for i in range(m + 1):\n",
    "        score_matrix[i][0] = i * gap_penalty\n",
    "    for j in range(n + 1):\n",
    "        score_matrix[0][j] = j * gap_penalty\n",
    "    \n",
    "    #3 Алгоритм\n",
    "    for i in range(1, m + 1):\n",
    "        for j in range(1, n + 1):\n",
    "            match = score_matrix[i - 1][j - 1] + (match_score if seq1[i - 1] == seq2[j - 1] else mismatch_score)\n",
    "            delete = score_matrix[i - 1][j] + gap_penalty\n",
    "            insert = score_matrix[i][j - 1] + gap_penalty\n",
    "            score_matrix[i][j] = max(match, delete, insert)\n",
    "    \n",
    "    # Трассировка (backtracking)\n",
    "    aligned_seq1, aligned_seq2 = \"\", \"\"\n",
    "    i, j = m, n\n",
    "    \n",
    "    while i > 0 or j > 0:\n",
    "        current_score = score_matrix[i][j]\n",
    "        if i > 0 and j > 0 and (seq1[i - 1] == seq2[j - 1] and current_score == score_matrix[i - 1][j - 1] + match_score or \n",
    "                                 seq1[i - 1] != seq2[j - 1] and current_score == score_matrix[i - 1][j - 1] + mismatch_score):\n",
    "            aligned_seq1 = seq1[i - 1] + aligned_seq1\n",
    "            aligned_seq2 = seq2[j - 1] + aligned_seq2\n",
    "            i -= 1\n",
    "            j -= 1\n",
    "        elif i > 0 and current_score == score_matrix[i - 1][j] + gap_penalty:\n",
    "            aligned_seq1 = seq1[i - 1] + aligned_seq1\n",
    "            aligned_seq2 = \"-\" + aligned_seq2\n",
    "            i -= 1\n",
    "        else:\n",
    "            aligned_seq1 = \"-\" + aligned_seq1\n",
    "            aligned_seq2 = seq2[j - 1] + aligned_seq2\n",
    "            j -= 1\n",
    "    \n",
    "    return aligned_seq1, aligned_seq2, score_matrix\n",
    "\n",
    "seq1 = \"CCGCAAGTTCGATATCAAATCGCTTGGATTGTCTAAGATACGCGCCCCGCATCCCGTATTAAGGTGGGAGGGGGTTTATGACTGTTCTCGCGCACAACTC\"\n",
    "seq2 = \"CTCAATCAAAAGGCTAAAAGCAAGTTCAGGTCTACGCATCTACGATTGATCTGCTCCCTTCTGTCGATTAATTGTATCCACTAGAGCCAGCGCCCTCATC\"\n",
    "aligned_seq1, aligned_seq2, score_matrix = needleman_wunsch(seq1, seq2)\n",
    "print(\"Выравнивание:\")\n",
    "print(aligned_seq1)\n",
    "print(aligned_seq2)"
   ]
  },
  {
   "cell_type": "markdown",
   "id": "30207850-9d24-4e96-9bec-67c7b1c05f18",
   "metadata": {},
   "source": [
    "## Пример\n"
   ]
  },
  {
   "cell_type": "code",
   "execution_count": 20,
   "id": "c9e55215-409d-45fe-b70b-9d8f70c04f58",
   "metadata": {},
   "outputs": [
    {
     "name": "stdout",
     "output_type": "stream",
     "text": [
      "Выравнивание:\n",
      "----TC--GGTC-CC-C-T--A---TCAAGC----GGAG-CA--TTTG-G--GC--TG-----T-TTATTGGT-CG------G-AGAG--GCGCGCTTTAACTTGGGTAAATGGTTG-GGGCACTTTCCCGGCTCGGGGGATATCTGAAGGTGA-GTAGGCAACGCGGTTATTTAGGCAAGCC-AGTTG-TCGTGCATGAGGTTGACGGGGTAGAGCGAGACAGGTGAAGTCTCGGAATGGATTCA-TG-\n",
      "CGCTTCTACGTCGCCACGTCGAGCCTC-AGCATAACCAGCCACGTTTGCGTTACAATGAAACATCTT-CTGGTCCGTATTCTGTAAAGCCGCACGC-TTAA--TGAG-CAAT-GTTGCCGGC-C-TTCTC--C-C--GGGA-A---G-TGGTGACG--GTC--C-CGG----CT-GG--AGCCGAG-TGACCGCG-A-GTGGTT--C--TGT-GTTCCACAC-GGT---GT-TTGG--CGG--T-AGTGC\n"
     ]
    }
   ],
   "source": [
    "seq1 = \"TCGGTCCCCTATCAAGCGGAGCATTTGGGCTGTTTATTGGTCGGAGAGGCGCGCTTTAACTTGGGTAAATGGTTGGGGCACTTTCCCGGCTCGGGGGATATCTGAAGGTGAGTAGGCAACGCGGTTATTTAGGCAAGCCAGTTGTCGTGCATGAGGTTGACGGGGTAGAGCGAGACAGGTGAAGTCTCGGAATGGATTCATG\"\n",
    "seq2 = \"CGCTTCTACGTCGCCACGTCGAGCCTCAGCATAACCAGCCACGTTTGCGTTACAATGAAACATCTTCTGGTCCGTATTCTGTAAAGCCGCACGCTTAATGAGCAATGTTGCCGGCCTTCTCCCGGGAAGTGGTGACGGTCCCGGCTGGAGCCGAGTGACCGCGAGTGGTTCTGTGTTCCACACGGTGTTTGGCGGTAGTGC\"\n",
    "aligned_seq1, aligned_seq2, score_matrix = needleman_wunsch(seq1, seq2)\n",
    "print(\"Выравнивание:\")\n",
    "print(aligned_seq1)\n",
    "print(aligned_seq2)"
   ]
  },
  {
   "cell_type": "markdown",
   "id": "4510b56b-ac3b-4696-a820-843e3b9e57b5",
   "metadata": {},
   "source": [
    "## 1.2 Алгоритм Смитта-Ватермана и пример\n"
   ]
  },
  {
   "cell_type": "code",
   "execution_count": 23,
   "id": "927039e5-b8e8-4e0e-9f00-128874ec7383",
   "metadata": {},
   "outputs": [
    {
     "name": "stdout",
     "output_type": "stream",
     "text": [
      "😝 Наилучшее локальное выравнивание:\n",
      "GCAAGTTCGATATCAAATCGC-T-T-GGATTG-TCTAAGATACGCGC-CCCGCATCCCGTATTAAGGTGGGAGGGGGTTTAT-GACT-GTTCTC-GCGCACAACTC\n",
      "GCAAGTTC-AGGTC-TA-CGCATCTACGATTGATCT--GCT-C-C-CTTCTG--T--CG-ATTAA--T---------TGTATCCACTAGAGC-CAGCGC-C--CTC\n",
      "👀 Максимальный балл: 72.0\n"
     ]
    }
   ],
   "source": [
    "def smith_waterman(seq1, seq2, match_score=3, mismatch_score=-3, gap_penalty=-2):\n",
    "    m, n = len(seq1), len(seq2)\n",
    "    score_matrix = np.zeros((m + 1, n + 1))  \n",
    "    \n",
    "    max_score = 0  # Максимальный балл в матрице\n",
    "    max_pos = (0, 0)  # Координаты максимального балла\n",
    "    for i in range(1, m + 1):\n",
    "        for j in range(1, n + 1):\n",
    "            match = score_matrix[i - 1][j - 1] + (match_score if seq1[i - 1] == seq2[j - 1] else mismatch_score)\n",
    "            delete = score_matrix[i - 1][j] + gap_penalty\n",
    "            insert = score_matrix[i][j - 1] + gap_penalty\n",
    "            \n",
    "            # Отличие от Нидлмана-Вунша:\n",
    "            score_matrix[i][j] = max(match, delete, insert, 0)\n",
    "            \n",
    "            # 🐤Запоминаем наибольшее значение и его координаты\n",
    "            if score_matrix[i][j] > max_score:\n",
    "                max_score = score_matrix[i][j]\n",
    "                max_pos = (i, j)\n",
    "\n",
    "    aligned_seq1, aligned_seq2 = \"\", \"\"\n",
    "    i, j = max_pos\n",
    "\n",
    "    while i > 0 and j > 0 and score_matrix[i][j] > 0:\n",
    "        if score_matrix[i][j] == score_matrix[i - 1][j - 1] + (match_score if seq1[i - 1] == seq2[j - 1] else mismatch_score):\n",
    "            aligned_seq1 = seq1[i - 1] + aligned_seq1\n",
    "            aligned_seq2 = seq2[j - 1] + aligned_seq2\n",
    "            i -= 1\n",
    "            j -= 1\n",
    "        elif score_matrix[i][j] == score_matrix[i - 1][j] + gap_penalty:\n",
    "            aligned_seq1 = seq1[i - 1] + aligned_seq1\n",
    "            aligned_seq2 = \"-\" + aligned_seq2\n",
    "            i -= 1\n",
    "        else:\n",
    "            aligned_seq1 = \"-\" + aligned_seq1\n",
    "            aligned_seq2 = seq2[j - 1] + aligned_seq2\n",
    "            j -= 1\n",
    "\n",
    "    return aligned_seq1, aligned_seq2, max_score\n",
    "seq1 = \"CCGCAAGTTCGATATCAAATCGCTTGGATTGTCTAAGATACGCGCCCCGCATCCCGTATTAAGGTGGGAGGGGGTTTATGACTGTTCTCGCGCACAACTC\"\n",
    "seq2 = \"CTCAATCAAAAGGCTAAAAGCAAGTTCAGGTCTACGCATCTACGATTGATCTGCTCCCTTCTGTCGATTAATTGTATCCACTAGAGCCAGCGCCCTCATC\"\n",
    "aligned_seq1, aligned_seq2, max_score = smith_waterman(seq1, seq2)\n",
    "\n",
    "print(\"😝 Наилучшее локальное выравнивание:\")\n",
    "print(aligned_seq1)\n",
    "print(aligned_seq2)\n",
    "print(\"👀 Максимальный балл:\", max_score)"
   ]
  },
  {
   "cell_type": "code",
   "execution_count": null,
   "id": "14933c65-bb28-4043-8729-b69bbecaeb14",
   "metadata": {},
   "outputs": [],
   "source": []
  },
  {
   "cell_type": "code",
   "execution_count": null,
   "id": "4cb4d983-154c-40d9-8a6b-f5ff7f2552ef",
   "metadata": {
    "tags": []
   },
   "outputs": [],
   "source": []
  }
 ],
 "metadata": {
  "kernelspec": {
   "display_name": "Python 3 (ipykernel)",
   "language": "python",
   "name": "python3"
  },
  "language_info": {
   "codemirror_mode": {
    "name": "ipython",
    "version": 3
   },
   "file_extension": ".py",
   "mimetype": "text/x-python",
   "name": "python",
   "nbconvert_exporter": "python",
   "pygments_lexer": "ipython3",
   "version": "3.8.12"
  }
 },
 "nbformat": 4,
 "nbformat_minor": 5
}
